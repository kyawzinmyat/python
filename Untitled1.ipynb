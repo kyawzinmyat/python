{
 "cells": [
  {
   "cell_type": "code",
   "execution_count": 1,
   "id": "638f4664",
   "metadata": {},
   "outputs": [],
   "source": [
    "from pyvis.network import Network"
   ]
  },
  {
   "cell_type": "code",
   "execution_count": 2,
   "id": "9ce3b8bb",
   "metadata": {},
   "outputs": [
    {
     "name": "stdout",
     "output_type": "stream",
     "text": [
      "1\n"
     ]
    }
   ],
   "source": [
    "print(1)"
   ]
  },
  {
   "cell_type": "code",
   "execution_count": 6,
   "id": "ff12bdac",
   "metadata": {},
   "outputs": [],
   "source": [
    "\n",
    "nx_graph = nx.cycle_graph(2)\n",
    "nx_graph.add_node(20, size=20, title='couple', group=2) \n",
    "nx_graph.add_node(21, size=15, title='couple', group=2) \n",
    "nx_graph.add_edge(20, 21, weight=5) \n",
    "\n",
    "nt = Network('500px','500px')\n",
    "nt.from_nx(nx_graph) \n",
    "nt.show('nx.html') \n"
   ]
  },
  {
   "cell_type": "code",
   "execution_count": null,
   "id": "86f032a5",
   "metadata": {},
   "outputs": [],
   "source": [
    "import networkx as nx\n"
   ]
  }
 ],
 "metadata": {
  "kernelspec": {
   "display_name": "Python 3 (ipykernel)",
   "language": "python",
   "name": "python3"
  },
  "language_info": {
   "codemirror_mode": {
    "name": "ipython",
    "version": 3
   },
   "file_extension": ".py",
   "mimetype": "text/x-python",
   "name": "python",
   "nbconvert_exporter": "python",
   "pygments_lexer": "ipython3",
   "version": "3.10.4"
  }
 },
 "nbformat": 4,
 "nbformat_minor": 5
}
